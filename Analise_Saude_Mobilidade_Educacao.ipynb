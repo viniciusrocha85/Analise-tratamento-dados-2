{
  "nbformat": 4,
  "nbformat_minor": 0,
  "metadata": {
    "colab": {
      "provenance": [],
      "collapsed_sections": [
        "FjmJWgDIj3WE"
      ],
      "mount_file_id": "1LGU_ewQ0mDMWE39GIzCYQ4T8hTvy-dE2",
      "authorship_tag": "ABX9TyPLxyej4KDWS9ULukklmLrs",
      "include_colab_link": true
    },
    "kernelspec": {
      "name": "python3",
      "display_name": "Python 3"
    },
    "language_info": {
      "name": "python"
    }
  },
  "cells": [
    {
      "cell_type": "markdown",
      "metadata": {
        "id": "view-in-github",
        "colab_type": "text"
      },
      "source": [
        "<a href=\"https://colab.research.google.com/github/viniciusrocha85/Analise-tratamento-dados-2/blob/main/Analise_Saude_Mobilidade_Educacao.ipynb\" target=\"_parent\"><img src=\"https://colab.research.google.com/assets/colab-badge.svg\" alt=\"Open In Colab\"/></a>"
      ]
    },
    {
      "cell_type": "code",
      "execution_count": 2,
      "metadata": {
        "id": "tgZ7frQ_SNhS"
      },
      "outputs": [],
      "source": [
        "import pandas as pd"
      ]
    },
    {
      "cell_type": "code",
      "source": [
        "#Import do Arquivo da base de dados de Dengue\n",
        "path_dengue = '/content/drive/MyDrive/Unifor-Ciencia de Dados/Bases de Dados/Base de Dengue3.csv'"
      ],
      "metadata": {
        "id": "xHRS1M_oingo"
      },
      "execution_count": 3,
      "outputs": []
    },
    {
      "cell_type": "code",
      "source": [
        "#Import do Arquivo da base de dados de Alunos\n",
        "path_alunos = '/content/drive/MyDrive/Unifor-Ciencia de Dados/Bases de Dados/Base de Alunos3.csv'"
      ],
      "metadata": {
        "id": "Hk_onrV9inYC"
      },
      "execution_count": 4,
      "outputs": []
    },
    {
      "cell_type": "code",
      "source": [
        "#Import do Arquivo da base de dados de Mobilidade\n",
        "path_onibus = '/content/drive/MyDrive/Unifor-Ciencia de Dados/Bases de Dados/Base de Onibus3.csv'"
      ],
      "metadata": {
        "id": "JPzFz-9DpfwZ"
      },
      "execution_count": 5,
      "outputs": []
    },
    {
      "cell_type": "code",
      "source": [
        "#Lendo o arquivo \"path_dengue\"\n",
        "df_dengue = pd.read_csv(path_dengue, sep=';')"
      ],
      "metadata": {
        "id": "ccH82-U1T00I"
      },
      "execution_count": 6,
      "outputs": []
    },
    {
      "cell_type": "code",
      "source": [
        "#Lendo o arquivo \"path_alunos\"\n",
        "df_alunos = pd.read_csv(path_alunos, sep=';')"
      ],
      "metadata": {
        "id": "foNXDhCZUSfO"
      },
      "execution_count": 7,
      "outputs": []
    },
    {
      "cell_type": "code",
      "source": [
        "#Lendo o arquivo \"path_onibus\"\n",
        "df_onibus = pd.read_csv(path_onibus, sep=';', encoding='latin1')"
      ],
      "metadata": {
        "id": "X_jZ1CJ9pavt"
      },
      "execution_count": 8,
      "outputs": []
    },
    {
      "cell_type": "code",
      "source": [
        "df_alunos.info()"
      ],
      "metadata": {
        "id": "tTc0_rL2uRQA"
      },
      "execution_count": null,
      "outputs": []
    },
    {
      "cell_type": "code",
      "source": [
        "df_dengue.info()"
      ],
      "metadata": {
        "id": "divtgEuTuULJ"
      },
      "execution_count": null,
      "outputs": []
    },
    {
      "cell_type": "code",
      "source": [
        "df_onibus.info()"
      ],
      "metadata": {
        "id": "xP7jL45rvhgG"
      },
      "execution_count": null,
      "outputs": []
    },
    {
      "cell_type": "code",
      "source": [
        "lista_nomes_alunos = list(df_alunos['Nome'])\n",
        "lista_nomes_onibus = list(df_onibus['Nome'])"
      ],
      "metadata": {
        "id": "BO1nPZVtP2-r"
      },
      "execution_count": 12,
      "outputs": []
    },
    {
      "cell_type": "code",
      "source": [
        "df_dengue_alunos = df_dengue[df_dengue['Nome'].isin(lista_nomes_alunos)]\n",
        "df_dengue_onibus_alunos = df_dengue_alunos[df_dengue_alunos['Nome'].isin(lista_nomes_onibus)]"
      ],
      "metadata": {
        "id": "H0OJaowSYbUr"
      },
      "execution_count": 13,
      "outputs": []
    },
    {
      "cell_type": "code",
      "source": [
        "df_dengue_onibus_alunos.info()"
      ],
      "metadata": {
        "id": "7qqEIvaKrlqS"
      },
      "execution_count": null,
      "outputs": []
    },
    {
      "cell_type": "code",
      "source": [
        "# df_dengue_onibus_alunos.to_excel('Relatorio_Saude_Mobilidade_e_Educação.xlsx',index=False)"
      ],
      "metadata": {
        "id": "kJcFBhNQ-T-V"
      },
      "execution_count": 15,
      "outputs": []
    },
    {
      "cell_type": "code",
      "source": [
        "df_dengue_n_alunos = df_dengue[~df_dengue['Nome'].isin(lista_nomes_alunos)]\n",
        "df_dengue_n_onibus_n_alunos = df_dengue_n_alunos[~df_dengue_n_alunos['Nome'].isin(lista_nomes_onibus)]"
      ],
      "metadata": {
        "id": "BVV9-mifOqh8"
      },
      "execution_count": 16,
      "outputs": []
    },
    {
      "cell_type": "code",
      "source": [
        "# df_dengue_n_onibus_n_alunos.to_excel('Relatorio_Saude_sem_Mobilidade_e_sem_Educação.xlsx',index=False)"
      ],
      "metadata": {
        "id": "byPW7YaZO9J-"
      },
      "execution_count": 17,
      "outputs": []
    },
    {
      "cell_type": "markdown",
      "source": [
        "# Grafico de Venn"
      ],
      "metadata": {
        "id": "QqcBXBtgq8eR"
      }
    },
    {
      "cell_type": "code",
      "source": [
        "#listagem da coluna 'Nomes' do datafame de alunos\n",
        "lista_nomes_onibus = list(df_onibus['Nome'])"
      ],
      "metadata": {
        "id": "qv5vR_uAq8eR"
      },
      "execution_count": 18,
      "outputs": []
    },
    {
      "cell_type": "code",
      "source": [
        "#listagem da coluna 'Nomes' do datafame de dengue\n",
        "lista_nomes_dengue = list(df_dengue['Nome'])"
      ],
      "metadata": {
        "id": "nyeVI3IPq8eR"
      },
      "execution_count": 19,
      "outputs": []
    },
    {
      "cell_type": "code",
      "source": [
        "#listagem da coluna 'Nomes' do datafame de alunos\n",
        "lista_nomes_alunos = list(df_alunos['Nome'])"
      ],
      "metadata": {
        "id": "Vo5sgC6UrC8b"
      },
      "execution_count": 20,
      "outputs": []
    },
    {
      "cell_type": "code",
      "source": [
        "#Importando uma biblioteca grafica (Matplotlib)\n",
        "from matplotlib import pyplot as plt\n",
        "from matplotlib_venn import venn2, venn3"
      ],
      "metadata": {
        "id": "CBygM9Cnq8eR"
      },
      "execution_count": 21,
      "outputs": []
    },
    {
      "cell_type": "code",
      "source": [
        "#Montando a funcão do diagrama de Venn\n",
        "def func_venn(venn, lst, labels):\n",
        "\n",
        "  return venn(lst, set_labels = labels)"
      ],
      "metadata": {
        "id": "1Y2kkVe3q8eR"
      },
      "execution_count": 22,
      "outputs": []
    },
    {
      "cell_type": "code",
      "source": [
        "labels= [\"Lista de Nomes que andam de Onibus\", \"Lista de Nomes com Dengue\",\"Lista de Nomes dos Alunos\"]\n",
        "func_venn(venn3, [set(lista_nomes_onibus), set(lista_nomes_dengue), set(lista_nomes_alunos)], set(labels))\n",
        "plt.show()"
      ],
      "metadata": {
        "id": "cva2tsrDq8eS"
      },
      "execution_count": null,
      "outputs": []
    }
  ]
}